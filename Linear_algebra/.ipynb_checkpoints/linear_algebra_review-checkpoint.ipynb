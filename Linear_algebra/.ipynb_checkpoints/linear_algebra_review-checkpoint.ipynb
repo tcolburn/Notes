{
 "cells": [
  {
   "cell_type": "markdown",
   "metadata": {},
   "source": [
    "# Linear Algebra: Full Review\n",
    "\n",
    "This review will be composed initially of very basic and simple examples of notation and matrix/vector arithmetic. Where appropriate, written descriptions and python graphics/calculations will be included"
   ]
  },
  {
   "cell_type": "markdown",
   "metadata": {},
   "source": [
    "## Chapter 1: Terms and Definitions\n",
    "\n",
    "## 1.1 Column Vectors \n",
    "\n",
    "They're exactly what they sound like :) Column vectors are vectors written vertically. \n",
    "\n",
    "ex.\n",
    "\n",
    "$$ c\\vec{v} + d\\vec{w} = c\\begin{bmatrix} 1 \\\\ 1 \\end{bmatrix} + d\\begin{bmatrix} 2 \\\\ 3 \\end{bmatrix} = \\begin{bmatrix} c + 2d \\\\ c + 3d \\end{bmatrix}$$  \n",
    "\n",
    "$$ \\Rightarrow 2\\vec{v} + \\vec{w} = 2\\begin{bmatrix} 1 \\\\ 1 \\end{bmatrix} + \\begin{bmatrix} 2 \\\\ 3 \\end{bmatrix} = \\begin{bmatrix} 4 \\\\ 5 \\end{bmatrix}$$  \n",
    "\n"
   ]
  },
  {
   "cell_type": "markdown",
   "metadata": {},
   "source": [
    "<img src=\"lin_al_fig1.png\"> <img src=\"lin_al_fig2.png\"> <img src=\"lin_al_fig_3.png\">\n",
    "\n",
    "*\"Vectors correspond to points **but are independent of coordinate systems**\"*\n",
    "\n",
    "*images and quote taken from Dr. Carl Gardner's lecture notes\n",
    "\n"
   ]
  },
  {
   "cell_type": "markdown",
   "metadata": {},
   "source": [
    "## 1.2 Lengths and dot products  \n",
    "\n",
    "\n",
    "$$||\\vec{v}|| = \\sqrt{\\langle \\vec{v} \\, , \\vec{v} \\rangle}$$\n",
    "\n",
    "In the above equation, note that the left-hand expression is the euclidean norm (sometimes referred to as the \"magnitude\") of the vector\n",
    "$\\vec{v},$\n",
    "and the right hand expression (under the radical) is the inner product (also called the dot product).\n",
    "\n",
    "$$\\langle \\vec{v} \\, , \\vec{w} \\rangle = v^{\\, T}w = \\begin{bmatrix} v_{1} & v_{2} & v_{3} \\end{bmatrix} \\begin{bmatrix} w_{1} \\\\ w_{2} \\\\ w_{3} \\end{bmatrix} = v_{1}w_{1} + v_{2}w_{2} + v_{3}w_{3}$$  \n",
    "\n",
    "$$=||\\vec{v}|| \\, ||\\vec{w}|| \\, cos \\, \\theta$$\n",
    "\n",
    "Dot products are *commutative*:\n",
    "\n",
    "$$\\langle \\vec{v} \\, , \\vec{w} \\rangle = \\langle \\vec{w} \\, , \\vec{v} \\rangle = \\vec{v} \\cdot \\vec{w} = \\vec{w} \\cdot \\vec{v}$$\n",
    "\n",
    "Unit vectors take the form:\n",
    "\n",
    "$$\\hat{i} = \\begin{bmatrix} 1 \\\\ 0 \\\\ 0 \\end{bmatrix} \\hspace{.2cm} \\hat{j} = \\begin{bmatrix} 0 \\\\ 1 \\\\ 0 \\end{bmatrix} \\hspace{.2cm} \\hat{k} = \\begin{bmatrix} 0 \\\\ 0 \\\\ 1 \\end{bmatrix} $$"
   ]
  },
  {
   "cell_type": "markdown",
   "metadata": {},
   "source": [
    "**Examples:**\n",
    "\n",
    "To find the unit vector of a given vector \n",
    "$\\vec{u},$\n",
    "where:  \n",
    "\n",
    "$$\\vec{u} = \\begin{bmatrix} 2 & 2 & 1 \\end{bmatrix} $$  \n",
    "\n",
    "first solve for the norm of \n",
    "$\\vec{u}:$\n",
    "\n",
    "$$\\Rightarrow || \\, \\vec{u} \\, || = \\sqrt{2^2 + 2^2 +1^2} = \\sqrt{9} = 3$$   \n",
    "\n",
    "then divide out the norm from each element of \n",
    "$\\vec{u}:$\n",
    "\n",
    "$$ \\Leftarrow\\Rightarrow \\hat{u} = \\dfrac{\\vec{u}}{||\\, \\vec{u} \\,||} = \\begin{bmatrix} \\dfrac{2}{3} & \\dfrac{2}{3} & \\dfrac{1}{3} \\end{bmatrix}$$\n",
    "\n",
    "***Random fact 1.1*** The unit circle vector is written:  \n",
    "\n",
    "$$\\vec{u}_c = \\begin{bmatrix} cos \\, \\theta \\\\ sin \\, \\theta \\end{bmatrix}$$"
   ]
  },
  {
   "cell_type": "markdown",
   "metadata": {},
   "source": [
    "**Cauchy-Schwarz Inequality**\n",
    "\n",
    "$$ \\vec{v} \\cdot \\vec{w} \\leq || \\vec{v} || \\cdot || \\vec{w} ||$$\n",
    "\n",
    "**Triangle Inequality**  \n",
    "\n",
    "$$ || \\vec{v} + \\vec{w} || \\leq ||\\vec{v}|| + ||\\vec{w}||$$\n",
    "\n",
    "<img src=\"lin_al_fig4.png\">"
   ]
  },
  {
   "cell_type": "markdown",
   "metadata": {},
   "source": [
    "## 1.3 Matrices"
   ]
  },
  {
   "cell_type": "markdown",
   "metadata": {},
   "source": [
    "**Matrix Properties**\n",
    "\n",
    "$$ I = \\begin{bmatrix} 1 & 0 \\\\ 0 & 1 \\end{bmatrix}$$  \n",
    "\n",
    "If A has an inverse, then:\n",
    "$$ AA^{-1} = I = A^{-1}A$$  \n",
    "\n",
    "and  \n",
    "\n",
    "$$ A\\vec{x} = \\vec{b} $$  \n",
    "$$ \\Rightarrow \\vec{x} = A^{-1} \\vec{b} $$\n",
    "\n",
    "A system of equations is said to be underdetermined if there are fewer equations than there are dimensions to the system. In matrix notation:\n",
    "\n",
    "$$\\left[\\begin{array}{cc|c} 1 & -2 & 1 \\\\ 0 & 0 & 0 \\end{array}\\right]$$\n",
    "\n",
    "Likewise, a system of equations is referred to as overdetermined if it has more equations than variables: \n",
    "\n",
    "$$\\left[\\begin{array}{cc|c} 1 & -2 & 0 \\\\ 3 & 2 & 0 \\\\ 2 & 1 & 0 \\end{array}\\right]$$  \n",
    "\n"
   ]
  },
  {
   "cell_type": "markdown",
   "metadata": {},
   "source": [
    "***Examples of linear equations***\n",
    "\n",
    "**Difference Matrix:**\n",
    "\n",
    "The following matrix D is referred to as a difference matrix: \n",
    "\n",
    "$$D = \\begin{bmatrix}  1 & 0 & 0 \\\\ -1 & 1 & 0 \\\\ 0 & -1 & 1 \\end{bmatrix}$$  \n",
    "\n",
    "$$D\\vec{x} = \\begin{bmatrix}  1 & 0 & 0 \\\\ -1 & 1 & 0 \\\\ 0 & -1 & 1 \\end{bmatrix} \\begin{bmatrix}  x_1 \\\\ x_2 \\\\ x_3 \\end{bmatrix} = \\begin{bmatrix}  b_1 \\\\ b_2 \\\\ b_3 \\end{bmatrix}$$  \n",
    "\n",
    "$$ = \\begin{bmatrix}  x_1 + (0) \\, x_2 + (0) \\, x_3 \\\\  -x_1 + x_2 + (0) \\, x_3 \\\\ (0) \\, x_1 - x_2 + x_3 \\end{bmatrix} $$\n",
    "\n",
    "$$ = \\begin{bmatrix}  x_1 \\\\ x_2 - x_1 \\\\ x_3 - x_2 \\end{bmatrix}$$  \n",
    "\n",
    "Therefore,\n",
    "\n",
    "$$ x_1 = b_1 $$\n",
    "$$ x_2 - x_1 = b_2$$\n",
    "$$ x_3 - x_2 = b_3$$  \n",
    "\n",
    "$$\\Rightarrow x_1 = b_1 $$\n",
    "$$\\Rightarrow x_2 = b_1 + b_2$$\n",
    "$$\\Rightarrow x_3 = b_1 + b_2 +b_3$$  \n",
    "\n",
    "$$\\Rightarrow \\vec{x} = S \\vec{b} = \\begin{bmatrix} 1 & 0 & 0 \\\\ 1 & 1 & 0 \\\\ 1 & 1 & 1 \\end{bmatrix} \\, \\vec{b}, $$\n",
    "where S is the sum matrix, as well as the inverse matrix of D.\n",
    "\n",
    "**Check:**\n",
    "\n",
    "$$DS = DD^{-1} = \\begin{bmatrix}  1 & 0 & 0 \\\\ -1 & 1 & 0 \\\\ 0 & -1 & 1 \\end{bmatrix} \\begin{bmatrix} 1 & 0 & 0 \\\\ 1 & 1 & 0 \\\\ 1 & 1 & 1 \\end{bmatrix} = \\begin{bmatrix}  1 & 0 & 0 \\\\ 0 & 1 & 0 \\\\ 0 & 0 & 1 \\end{bmatrix} $$\n",
    "\n",
    "**Cycle Matrix:**  \n",
    "\n",
    "$$C \\, \\vec{x} = \\begin{bmatrix}  1 & 0 & -1 \\\\ -1 & 1 & 0 \\\\ 0 & -1 & 1 \\end{bmatrix} \\begin{bmatrix}  x_1 \\\\ x_2 \\\\ x_3 \\end{bmatrix} = \\begin{bmatrix}  x_1 - x_3 \\\\ x_2 - x_1 \\\\ x_3 - x_2 \\end{bmatrix} = \\vec{b} $$\n",
    "\n",
    "For this matrix, there are either infinitely many solutions for \n",
    "$\\vec{x},$\n",
    "or no solutions.\n",
    "\n",
    "One can see that this system is underdetermined (i.e. the number of unique equations describing the system is less than the dimensionality of the system) by pivoting the matrix a number of times to get:\n",
    "\n",
    "$$C = \\begin{bmatrix}  1 & 0 & -1 \\\\ -1 & 1 & 0 \\\\ 0 & -1 & 1 \\end{bmatrix} = \\begin{bmatrix}  1 & 0 & -1 \\\\ 0 & 1 & -1 \\\\ 0 & 0 & 0 \\end{bmatrix} $$\n",
    "\n",
    "**Independence and Singularity**\n",
    "\n",
    "The \n",
    "*$n \\times n$*\n",
    "(\"square\") matrix A -- where, in the 2-dimensional case:\n",
    "$$A = \\begin{bmatrix} a & b \\\\ c & d \\end{bmatrix}$$  \n",
    "\n",
    "is said to be invertible if \n",
    "$det \\{A\\} = ad - bc  \\neq 0,$\n",
    "the columns of A are independent, and A has *n* pivots. A is referred to as singular if all of the above qualities are negated (i.e. \n",
    "$det\\{A\\} = 0,$\n",
    "the columns of A are dependent, and A has less than *n* pivots). We'll return to this idea of independence again after we've wet our beaks with some matrix arithmetic. If A is indeed found to be invertible,\n",
    "$\\, A^{-1}$\n",
    "exists and is unique,\n",
    "$ \\, AA^{-1} = I = A^{-1}A,$ \n",
    "and the unique solution to\n",
    "$ A\\vec{x} = \\vec{b}$\n",
    "is \n",
    "$\\vec{x} = A^{-1} \\vec{b}$\n",
    "\n",
    "*Note: pivots may seem a little strange (especially if you read from the wikipedia entry). However, the concept is relatively straightforward. A pivot is simply the first (as in left-most) non-zero entry in a row of a matrix. Voila!*"
   ]
  },
  {
   "cell_type": "markdown",
   "metadata": {},
   "source": [
    " ## Chapter 2:  Solving Linear Equations\n",
    " \n",
    " ## 2.1 Vectors and Linear Equations\n",
    " \n",
    " Consider the following system of equations:\n",
    " \n",
    " $$x - 2y = 1$$\n",
    " $$3x + 2y = 11$$  \n",
    " \n",
    " This corresponds to the augmented matrix:  \n",
    " \n",
    " $$A = \\left[\\begin{array}{cc|c} 1 & -2 & 1 \\\\ 3 & 2 & 11 \\end{array}\\right] $$\n",
    " "
   ]
  },
  {
   "cell_type": "markdown",
   "metadata": {},
   "source": [
    "This matrix can be put into *Reduced Row Echelon Form (RREF)* by way of row manipulations such that it's solution can be more readily gleaned:\n",
    "\n",
    "$$A = \\left[\\begin{array}{cc|c} 1 & -2 & 1 \\\\ 3 & 2 & 11 \\end{array}\\right] $$  \n",
    "\n",
    "$$ = \\left[\\begin{array}{cc|c} 1 & -2 & 1 \\\\ 0 & 8 & 8 \\end{array}\\right]$$  \n",
    "\n",
    "$$ = \\left[\\begin{array}{cc|c} 1 & -2 & 1 \\\\ 0 & 1 & 1 \\end{array}\\right]$$  \n",
    "\n",
    "$$ = \\left[\\begin{array}{cc|c} 1 & 0 & 3 \\\\ 0 & 1 & 1 \\end{array}\\right]$$\n",
    "\n",
    "Note that, for each variable in the system, there is a corresponding pivot equal to one. Additionally, notice that these pivots are aligned along the diagonal passing from the top left to the bottom right-most entries of the coefficient matrix. The resultant augmented matrix can be interpreted in one of two ways. By evaluating the rows, we see that the system is two lines that intersect at \n",
    "$(3,1);$\n",
    "by evaluating the columns, we see a linear combination of two vectors set equal to some solution vector b:\n",
    "\n",
    "$$ x\\begin{bmatrix} 1 \\\\ 3 \\end{bmatrix} + y\\begin{bmatrix} -2 \\\\ 2 \\end{bmatrix} = \\begin{bmatrix} 1 \\\\ 11 \\end{bmatrix} $$  \n",
    "\n",
    "$$ \\Rightarrow x\\begin{bmatrix} 1 \\\\ 0 \\end{bmatrix} + y\\begin{bmatrix} -2 \\\\ 8 \\end{bmatrix} = \\begin{bmatrix} 1 \\\\ 8 \\end{bmatrix} $$  \n",
    "\n",
    "$$ \\Rightarrow x\\begin{bmatrix} 1 \\\\ 0 \\end{bmatrix} + y\\begin{bmatrix} -2 \\\\ 1 \\end{bmatrix} = \\begin{bmatrix} 1 \\\\ 1 \\end{bmatrix}$$  \n",
    "\n",
    "$$\\Rightarrow x\\begin{bmatrix} 1 \\\\ 0 \\end{bmatrix} + y\\begin{bmatrix} 0 \\\\ 1 \\end{bmatrix} = \\begin{bmatrix} 3 \\\\ 1 \\end{bmatrix}$$"
   ]
  },
  {
   "cell_type": "markdown",
   "metadata": {},
   "source": [
    "Now, at this point, you may be asking, \"Taylor, what the hell do you mean by 'row manipulations?'\" Excellent question, dear reader. Matrix arithmetic entails a certain set of rules that govern the ways you can move and rescale, add and subtract rows in a matrix without altering its solution:\n",
    "1. Any row can be multiplied by some scalar value \n",
    "$\\alpha$\n",
    "such that all entries in that row are rescaled by \n",
    "$\\alpha$\n",
    "2. Any row can be added or subtracted from any scalar multiple of any other row\n",
    "3. Any two rows can swap places in the matrix\n",
    "\n",
    "Applying these rules to the above example, we see that, in my calculations, I:\n",
    "\n",
    "1. Subtracted three times row one from row two\n",
    "$$3R_1 - R_2$$\n",
    "2. Divided row two by the scalar value eight  \n",
    "$$\\dfrac{R_2}{8}$$\n",
    "3. Added two times row two to row one\n",
    "$$2R_2 + R_1$$\n",
    "\n",
    "and presto! We have the RREF of the matrix. "
   ]
  }
 ],
 "metadata": {
  "kernelspec": {
   "display_name": "Python 2",
   "language": "python",
   "name": "python2"
  },
  "language_info": {
   "codemirror_mode": {
    "name": "ipython",
    "version": 2
   },
   "file_extension": ".py",
   "mimetype": "text/x-python",
   "name": "python",
   "nbconvert_exporter": "python",
   "pygments_lexer": "ipython2",
   "version": "2.7.11"
  }
 },
 "nbformat": 4,
 "nbformat_minor": 0
}
