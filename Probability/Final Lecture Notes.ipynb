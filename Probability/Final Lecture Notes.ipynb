{
 "cells": [
  {
   "cell_type": "markdown",
   "metadata": {},
   "source": [
    "# Conditional Probability Distributions"
   ]
  },
  {
   "cell_type": "markdown",
   "metadata": {},
   "source": [
    "## Tetrahedral die (*Test Prep*)"
   ]
  },
  {
   "cell_type": "markdown",
   "metadata": {},
   "source": [
    "Let the random variables F and B be the values rolled by one fair and one biased tetrahdron with faces labeled 1,2,3, and 4, each. Also let \n",
    "$S = F + B$\n",
    "and \n",
    "$L = max\\{F,B\\}$\n",
    "be the sum and the larger value rolled.  \n",
    "\n",
    "Suppose the probability mass function of the biased tetrahedron has values \n",
    "$p_B(i) = P\\{B=i\\} = \\dfrac{i}{10} \\hspace{.2cm} for \\hspace{.2cm} i \\leq 4.$  "
   ]
  },
  {
   "cell_type": "markdown",
   "metadata": {},
   "source": [
    "**Definition:**\n",
    "\n",
    "Conditional variance\n",
    "$\\Rightarrow var(E|F) = E[]"
   ]
  },
  {
   "cell_type": "markdown",
   "metadata": {},
   "source": [
    "## Chebyshev's Inequality\n",
    "\n",
    "If\n",
    "$ X:\\Omega \\rightarrow \\mathbb{R}$\n",
    "is a (continuous?) random variables with \n",
    "$|\\mu| < \\infty,$\n",
    "then every\n",
    "$K \\in (0,\\infty).$\n",
    "\n",
    "$$P\\{|X - \\mu| \\geq K \\} \\leq \\dfrac{\\sigma^2}{K^2}$$\n",
    "\n",
    "## Markov's Inequality\n",
    "\n",
    "If Y is a nonnegative continuous random variable, then for every\n",
    "$a > 0$,\n",
    "$$ P\\{Y>a\\} \\leq \\dfrac{E[Y]}{a}$$  \n",
    "\n",
    "$$ \\Rightarrow E[Y] = \\int_{0}^{\\infty} \\hspace{.1cm} f_y(y) \\hspace{.1cm} y \\hspace{.2cm}dy \\geq \\int_{a}^{\\infty} \\hspace{.1cm} f_y(y) \\hspace{.1cm} y \\hspace{.2cm}dy $$\n",
    "\n",
    "If \n",
    "$Var(X) = 0,$\n",
    "then \n",
    "$P\\{X=E[X]\\} = 1$\n",
    "almost surely (i.e. the set of exceptions may be non-zero, but the probability of this set is zero)\n",
    "\n"
   ]
  },
  {
   "cell_type": "markdown",
   "metadata": {},
   "source": [
    "## Weak Law of large numbers\n",
    "\n",
    "For a sequence of RV that are independent and identically distributed with finite mean\n",
    "$ \\mu $\n",
    ":\n",
    "\n",
    "$$\\lim_{n \\rightarrow \\infty} P(|S_n - \\mu | \\geq \\epsilon) = 0$$ \n",
    "where\n",
    "$ S_n = \\dfrac{(X_1 + X_2 + ...+ X_n)}{n}$\n",
    "and $ \\forall \\epsilon > 0$"
   ]
  },
  {
   "cell_type": "markdown",
   "metadata": {},
   "source": [
    "## Strong Law of Large Numbers\n",
    "\n",
    "$$P\\{ \\lim_{n \\rightarrow \\infty} S_n = \\mu\\} = 1 $$"
   ]
  },
  {
   "cell_type": "markdown",
   "metadata": {},
   "source": [
    "## Central Limit Theorem\n",
    "\n",
    "$X(\\omega)$\n",
    "is a random vector of iid RVs w/ finite mean.\n",
    "\n",
    "The following sequence:\n",
    "\n",
    "$$ Z_n = \\dfrac{\\sqrt{n}}{\\sigma}(S_n- \\mu)$$\n",
    "\n",
    "converges to the standard normal. \n",
    "\n",
    "$$ \\lim_{n \\rightarrow \\infty} P\\{Z_n \\leq z \\} = \\lim_{n \\rightarrow \\infty} F_{z_n} = \\dfrac{1}{\\sqrt{2 \\pi}} \\int_{-\\infty}^{z} e^{-\\dfrac{u^2}{2}} du$$"
   ]
  },
  {
   "cell_type": "markdown",
   "metadata": {},
   "source": []
  },
  {
   "cell_type": "markdown",
   "metadata": {},
   "source": []
  },
  {
   "cell_type": "markdown",
   "metadata": {},
   "source": []
  },
  {
   "cell_type": "markdown",
   "metadata": {},
   "source": []
  },
  {
   "cell_type": "markdown",
   "metadata": {},
   "source": []
  },
  {
   "cell_type": "markdown",
   "metadata": {},
   "source": []
  },
  {
   "cell_type": "markdown",
   "metadata": {},
   "source": []
  },
  {
   "cell_type": "markdown",
   "metadata": {},
   "source": []
  },
  {
   "cell_type": "markdown",
   "metadata": {},
   "source": []
  },
  {
   "cell_type": "markdown",
   "metadata": {},
   "source": []
  },
  {
   "cell_type": "markdown",
   "metadata": {},
   "source": []
  },
  {
   "cell_type": "markdown",
   "metadata": {},
   "source": []
  },
  {
   "cell_type": "markdown",
   "metadata": {},
   "source": []
  },
  {
   "cell_type": "markdown",
   "metadata": {},
   "source": []
  },
  {
   "cell_type": "markdown",
   "metadata": {},
   "source": []
  },
  {
   "cell_type": "markdown",
   "metadata": {},
   "source": []
  },
  {
   "cell_type": "markdown",
   "metadata": {},
   "source": []
  },
  {
   "cell_type": "markdown",
   "metadata": {},
   "source": []
  },
  {
   "cell_type": "markdown",
   "metadata": {},
   "source": []
  },
  {
   "cell_type": "markdown",
   "metadata": {},
   "source": []
  },
  {
   "cell_type": "markdown",
   "metadata": {},
   "source": []
  },
  {
   "cell_type": "markdown",
   "metadata": {},
   "source": []
  },
  {
   "cell_type": "markdown",
   "metadata": {},
   "source": []
  },
  {
   "cell_type": "markdown",
   "metadata": {},
   "source": []
  },
  {
   "cell_type": "markdown",
   "metadata": {},
   "source": []
  },
  {
   "cell_type": "markdown",
   "metadata": {},
   "source": []
  },
  {
   "cell_type": "markdown",
   "metadata": {},
   "source": []
  },
  {
   "cell_type": "markdown",
   "metadata": {},
   "source": []
  },
  {
   "cell_type": "markdown",
   "metadata": {},
   "source": []
  },
  {
   "cell_type": "markdown",
   "metadata": {},
   "source": []
  },
  {
   "cell_type": "markdown",
   "metadata": {},
   "source": []
  },
  {
   "cell_type": "markdown",
   "metadata": {},
   "source": []
  }
 ],
 "metadata": {
  "kernelspec": {
   "display_name": "Python 2",
   "language": "python",
   "name": "python2"
  },
  "language_info": {
   "codemirror_mode": {
    "name": "ipython",
    "version": 2
   },
   "file_extension": ".py",
   "mimetype": "text/x-python",
   "name": "python",
   "nbconvert_exporter": "python",
   "pygments_lexer": "ipython2",
   "version": "2.7.11"
  }
 },
 "nbformat": 4,
 "nbformat_minor": 0
}
