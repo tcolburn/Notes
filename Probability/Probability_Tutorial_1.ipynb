{
 "cells": [
  {
   "cell_type": "markdown",
   "metadata": {},
   "source": [
    "# STP421: Probability"
   ]
  },
  {
   "cell_type": "markdown",
   "metadata": {},
   "source": [
    "## **Exam I**"
   ]
  },
  {
   "cell_type": "markdown",
   "metadata": {},
   "source": [
    "**Definitions:**"
   ]
  },
  {
   "cell_type": "markdown",
   "metadata": {},
   "source": [
    "***Probability Space***"
   ]
  },
  {
   "cell_type": "markdown",
   "metadata": {},
   "source": [
    "A probability space is the **tuple** containing the set of all possible outcomes (called the sample space), the set of all subsets (called '***events***') of the sample space, and a function mapping these events to the real number line from zero to one\n",
    "\n",
    "\n",
    "$$\\underline{(\\Omega,\\mathcal{F},\\textit{P})} \\hspace{.25cm} s.t. \\hspace{.2cm} P: \\mathcal{F} \\rightarrow [0,1]$$\n",
    "\n",
    "The mapping function is called a probability distribution or probability measure on the ***event space***, and satisfies the following properties:\n",
    "\n",
    "$$P(0)=0 \\hspace{.25cm} and \\hspace{.25cm} P(\\Omega)=1$$  \n",
    " \n",
    "$$P(\\bigcup_{n=1}^{\\infty}\\underline{E_n}) = \\sum_{n=1}^{\\infty}P(\\underline{E_n})$$  "
   ]
  },
  {
   "cell_type": "markdown",
   "metadata": {},
   "source": [
    "***Sigma Algebra (e.g. Event Space)***"
   ]
  },
  {
   "cell_type": "markdown",
   "metadata": {},
   "source": [
    "A sigma algebra is a mathematical structure on a set such that three conditions are satisfied:\n",
    "\n",
    "    1.) It contains both the empty set and the sample space (the set of all possible outcomes)\n",
    "\n",
    "$$\\emptyset , \\Omega \\in \\mathcal{F} $$  \n",
    "\n",
    "\n",
    "    2.) For every event E in the sigma algebra, it's complement must also exist in the sigma algebra\n",
    "\n",
    "$$\\forall E \\in \\mathcal{F} , \\hspace{.25cm} \\exists E^{c}: E^{c} \\in \\mathcal{F} $$  \n",
    "\n",
    "\n",
    "    3.) If A_1,A_2,C_3... are events in the sigma algebra, then their union is also in the sigma algebra\n",
    "\n",
    "$$If \\hspace{1mm} A_1,A_2,A_3... \\in \\mathcal{F} , \\hspace{.25cm} then \\hspace{1mm} A \\cup B \\cup C... \\in \\mathcal{F} $$ "
   ]
  },
  {
   "cell_type": "markdown",
   "metadata": {},
   "source": [
    "***Conditional Probability***"
   ]
  },
  {
   "cell_type": "markdown",
   "metadata": {},
   "source": [
    "A probability is said to be conditional if it takes the form  \n",
    "\n",
    "$$P(E|F) = \\dfrac{P(F \\cap E)}{P(F)}$$\n",
    "\n",
    "Bayes' Theorem of conditional probabilities states that    \n",
    "\n",
    "$$P(E|F) = \\dfrac{P(F|E)P(E)}{P(F)}$$\n",
    "\n",
    "The above statement is read, \"The Probability of ***E given F*** is **equal** to the Probability of ***F given E*** **multiplied** by the Probability of ***E***, **divided** by   \n",
    "the probability of ***F***.\""
   ]
  },
  {
   "cell_type": "markdown",
   "metadata": {
    "collapsed": true
   },
   "source": [
    "***Independence***"
   ]
  },
  {
   "cell_type": "markdown",
   "metadata": {
    "collapsed": true
   },
   "source": [
    "Two events E and F are said to be independent if:\n",
    "$$P(E \\cap F) = P(E)P(F)$$\n",
    "\n",
    "It then follows from Bayes' Theorem that:\n",
    "$$\n",
    "\\underline{P(E|F)} = \\dfrac{P(F|E)P(E)}{P(F)}\n",
    "=\\dfrac{P(F \\cap E)}{P(F)}\n",
    "=\\dfrac{P(F)P(E)}{P(F)}\n",
    "=\\underline{P(E)}\n",
    "$$\n",
    "\n",
    "for independent events E and F."
   ]
  },
  {
   "cell_type": "markdown",
   "metadata": {},
   "source": [
    "***Inclusion-Exclusion***"
   ]
  },
  {
   "cell_type": "markdown",
   "metadata": {},
   "source": [
    "The inclusion-exclusion principle states that  \n",
    "$$P(E_1 \\cap E_2 \\cap E_3 \\cap ... \\cap E_n) = \\sum _{i=1}^{n}P(E_i) \\hspace{.25cm} - \\sum _{1 \\leq i_1 \\leq i_2 \\leq n}P(E_{i_1} \\cap E_{i_2}) \\hspace{.25cm} + \\hspace{.25cm} ... \\hspace{.25cm} (-1)^{r+1} \\sum _{i_1 < i_2 < i_3 < ... i_r}P(E_{i_1} \\cap E_{i_2} \\cap ... \\cap E_{i_r}) \\hspace{.25cm} + \\hspace{.25cm} ... \\hspace{.25cm} + \\hspace{.25cm} (-1)^{n+1}P(E_{i_2} \\cap ... \\cap E_{i_n})$$"
   ]
  },
  {
   "cell_type": "markdown",
   "metadata": {},
   "source": [
    "**Problem set:**"
   ]
  },
  {
   "cell_type": "markdown",
   "metadata": {},
   "source": [
    "*1.) Suppose that 94% of all students pass a class, as do 98% of those who do the homework.\n",
    "If 10% do not do the homework, what is the probability that one of these passes the class?*"
   ]
  },
  {
   "cell_type": "markdown",
   "metadata": {},
   "source": [
    "    We approach this problem by applying Bayes' Theorem:\n",
    "\n",
    "$$P(E|F) = \\dfrac{P(F|E)P(E)}{P(F)}$$ \n",
    "\n",
    "\n",
    "   **Given:** \n",
    "$P(p) = .94; \\hspace{.25cm} P(p|H) = .98; \\hspace{.25cm} P(H^c) = .10$\n",
    "\n",
    "   **Extrapolated:**\n",
    "$P(f) = .06; \\hspace{.25cm} P(H) = .90; \\hspace{.25cm} P(f|H) = .02;$  \n",
    "\n",
    "   **Calculations:**\n",
    "$P(p|H) P(H) \\hspace{.25cm} + \\hspace{.25cm} P(p|H^c)P(H) = P(p) = .94 = (.98)(.9) \\hspace{.25cm} + \\hspace{.25cm} P(p|H^c)(.1)$  \n",
    "\n",
    "$\\Rightarrow \\hspace{.25cm} P(p|H^c) = \\dfrac{(.94) - (.98)(.9)}{.1} = .58$\n",
    " \n"
   ]
  },
  {
   "cell_type": "markdown",
   "metadata": {},
   "source": [
    " *2.)  Give a combinatorial argument why for all n ≥ k ≥ 1*\n",
    "$\\sum_{k=1}^{n}{k*{n \\choose k}} = n2^{n-1}$ \n",
    "\n",
    "*Suggestion: Count all possible ways of forming a committee with k members and one chair from a total of n people.*"
   ]
  },
  {
   "cell_type": "markdown",
   "metadata": {},
   "source": [
    "    The left-hand expression of the identity is the number of ways that you can choose a committee of size k from \n",
    "    a group of n people, and then choose a committee chair from that group of k chosen members. \n",
    "    \n",
    "    The right-hand expression is the number of ways that you can select a chairperson and then put together a\n",
    "    committee of any size."
   ]
  },
  {
   "cell_type": "markdown",
   "metadata": {},
   "source": [
    "## **Exam II (2015)**"
   ]
  },
  {
   "cell_type": "markdown",
   "metadata": {},
   "source": [
    "**Definitions:**"
   ]
  },
  {
   "cell_type": "markdown",
   "metadata": {},
   "source": [
    "***Discrete Random Variable***\n",
    "\n",
    " A discrete random variable is a function that takes values in a\n",
    "countable set (usually a subset of the real numbers)."
   ]
  },
  {
   "cell_type": "markdown",
   "metadata": {},
   "source": [
    "***Variance***\n",
    "\n",
    "If the expectation of a random variable is defined as \n",
    "$E[X] = \\mu$\n",
    "then it's variance is the expected value of\n",
    "$(X - \\mu)^2$"
   ]
  },
  {
   "cell_type": "markdown",
   "metadata": {},
   "source": [
    "***Cumulative Distribution Function***\n",
    "\n",
    "The cumulative distribution function is a function \n",
    "$F_X: \\mathbb{R} \\rightarrow \\mathbb{R}$\n",
    "such that\n",
    "$F_x(b) = P\\{X \\leq b\\}$"
   ]
  },
  {
   "cell_type": "markdown",
   "metadata": {},
   "source": [
    "***Poisson Random Variable***\n",
    "\n",
    "$$p_X(x) = e^{-\\lambda} \\dfrac{\\lambda^n}{n!}$$"
   ]
  },
  {
   "cell_type": "markdown",
   "metadata": {},
   "source": [
    "***Exponential Distribution***\n",
    "\n",
    "$$f_X(x) = \\lambda e^{-\\lambda x}$$"
   ]
  },
  {
   "cell_type": "markdown",
   "metadata": {},
   "source": [
    "**Problem Sets**"
   ]
  },
  {
   "cell_type": "markdown",
   "metadata": {},
   "source": [
    "1.)\n",
    "a.) Use the definitions of E[X] and Var(X) to show that for every discrete RV X,\n",
    "$Var(X) = E[X^2]−(E[X])^2$  \n",
    "\n",
    "**Calculations:**\n",
    "$$ Var(X) = E[(X - \\mu)^2] = E[X^2-2 \\mu X + \\mu^2] $$  \n",
    "$$= \\sum_{-\\infty}^{\\infty}p_X(x) (x^2-2 \\mu x + \\mu^2) = \\sum_{-\\infty}^{\\infty}p_X(x) x^2 - 2 \\mu \\sum_{-\\infty}^{\\infty}p_X(x)  x + \\mu^2 \\sum_{-\\infty}^{\\infty}p_X(x)  $$  \n",
    "$$= E[X^2] - 2 E[X] (E[X]) + (E[X])^2 = E[X^2] - (E[X])^2$$  "
   ]
  },
  {
   "cell_type": "markdown",
   "metadata": {},
   "source": [
    "b.) Suppose X is a discrete random variable with expectation \n",
    "$\\mu$\n",
    "and variance\n",
    "$\\sigma^2$.  \n",
    "\n",
    "Show that the random variable\n",
    "$Y = \\dfrac{1}\\sigma (X - \\mu)$\n",
    "has expectation zero and variance one.\n",
    "\n",
    "**Calculations:**\n",
    "$$E[Y] = \\sum_{x_i \\in E}p_X(x)(\\dfrac{1}\\sigma (x - \\mu)) = \\dfrac{1}\\sigma (\\sum_{x_i \\in E}p_X(x)x - \\mu) = \\dfrac{1}\\sigma (\\mu - \\mu) = 0.$$  \n",
    "\n",
    "$$ Var(Y) = \\sum_{x_i \\in E}p_X(x)(\\dfrac{1}\\sigma (x - \\mu))^2 - (\\sum_{x_i \\in E}p_X(x) (\\dfrac{1}\\sigma(x - \\mu)))^2$$  \n",
    "\n",
    "$$= \\dfrac{1}{\\sigma^2} \\sum_{x_i \\in E}p_X(x)(x - \\mu)^2 = \\dfrac{Var(X)}{Var(X)} = 1.$$ "
   ]
  },
  {
   "cell_type": "markdown",
   "metadata": {},
   "source": [
    "2.) Let X be a discrete random variable X with parameter\n",
    "$ q \\in [0,1]$, \n",
    "and probability mass function\n",
    "$p(n) = P (X = n) = Cq^n(1-q)$\n",
    "for\n",
    "$n \\in \\mathbb{Z_{0}^+}$\n",
    "with \n",
    "$C>0$\n",
    "a.) Find the probability generating function\n",
    "$\\psi_X(s) = E[s^x]$  \n",
    "\n",
    "**Calculations:**\n",
    "$$\\psi_X(s) = \\sum_{x_i \\in E}Cq^n(1-q)s^n = C(1-q)\\sum_{x_i \\in E}(qs)^n $$  \n",
    "$$= \\dfrac{C(1-q)}{1-qs}$$"
   ]
  },
  {
   "cell_type": "markdown",
   "metadata": {},
   "source": [
    "b.) Evaluate \n",
    "$\\psi_X(1), \\hspace{.15cm} \\psi_X^{'}(1), \\hspace{.15cm} \\psi_X^{''}(1).$\n",
    "\n",
    "**Calculations:**  \n",
    "$$\\psi_X^{'}(s) = \\dfrac{C(1-q)}{(1-qs)^2}s$$  \n",
    "\n",
    "$$ \\Rightarrow E[X] = \\psi_X^{'}(1) = \\dfrac{C}{(1-q)}$$  \n",
    "\n",
    "$$\\psi_X^{''}(s) = \\dfrac{2C(1-q)}{(1-qs)^3}s^2$$  \n",
    "\n",
    "$$ \\Rightarrow \\psi_X^{''}(1) = \\dfrac{2C}{(1-q)^2}$$\n",
    "\n",
    "for all \n",
    "$C \\geq 0.$\n",
    "\n",
    "$$ \\Leftarrow\\Rightarrow Var(X) = E[X^2] - (E[X])^2 = \\psi_X^{''}(1) + \\psi_X^{'}(1) - (\\psi_X^{'}(1))^2$$  \n",
    "\n",
    "\n",
    "$$ = \\dfrac{2C}{(1-q)^2} + \\dfrac{C}{(1-q)} - (\\dfrac{C}{(1-q)})^2$$\n"
   ]
  },
  {
   "cell_type": "markdown",
   "metadata": {},
   "source": [
    "3.) A bag is known to contain two fair coins and one biased coin that comes up heads only 40% of the time.\n",
    "One coin is chosen at random and tossed twelve times. If heads come up four times, find the probability\n",
    "that this is the biased coin (give your answer as a decimal approximation with four digits accuracy).\n",
    "\n",
    "**Given:**\n",
    "$P(H|B)=.4; \\hspace{.15cm} P(H|F) = .5; \\hspace{.15cm} P(H^c|F) = .5 \\hspace{.15cm} P(B) = .333...; \\hspace{.15cm} P(F) = .666...$  \n",
    "\n",
    "**Extrapolated:**\n",
    "$P(H^c|B)=.6; \\hspace{.15cm}$\n",
    "\n",
    "* Use Binomial distribution:\n",
    "$$p_X(x) = {n \\choose k} p^k(1-p)^{n-k}$$  \n",
    "\n",
    "and Bayes' Theorem:  \n",
    "\n",
    "$$P(B|H=4) = \\dfrac{P(H=4|B)P(B)}{P(H=4|B)P(B)+P(H=4|B^c)P(B^c)}$$\n"
   ]
  },
  {
   "cell_type": "markdown",
   "metadata": {},
   "source": [
    "**Calculations:**\n",
    "\n",
    "$P(B|H=4) = \\dfrac{({12 \\choose 4}(.4)^4(.6)^{12-4})(.333...)}{({12 \\choose 4}(.4)^12(.6)^{12-4})(.333...)+{12 \\choose 4}(.5)^12(.5)^{12-4})(.666...)} = \\dfrac{((.4)^4(.6)^{8})(.333...)}{((.4)^4(.6)^{8})(.333...)+(.5)^4(.5)^{8})(.666...)}$  \n",
    "\n",
    "$$= \\dfrac{(0.00014189395968)}{(.0003046527487425)} \\approx 0.466 $$"
   ]
  },
  {
   "cell_type": "markdown",
   "metadata": {},
   "source": [
    "Suppose X is a continuous random variable with parameter \n",
    "$\\lambda > 0$\n",
    "and probability density function\n",
    "\n",
    "$$f_X(x) = \\lambda e^{-\\lambda x},$$  \n",
    "\n",
    "$$for \\hspace{.15cm} x \\geq 0$$ \n",
    "\n",
    "a.) For\n",
    "$g: \\mathbb{R} \\rightarrow \\mathbb{R} \\hspace{.15cm} with \\hspace{.15cm} g(x) = e^x,$\n",
    "find the probability density function\n",
    "$\\hspace{.15cm} f_Y$\n",
    "of the random variable \n",
    "$Y = g(x)$\n",
    "\n"
   ]
  },
  {
   "cell_type": "markdown",
   "metadata": {},
   "source": [
    "**Calculations:**  \n",
    "\n",
    "Use:  \n",
    "$$ f_Y(y) = f_X(g^{-1}(y)) * \\dfrac{d}{dy} g^{-1}(y)$$  \n",
    "\n",
    "For \n",
    "$Y = g(x)$\n",
    "\n",
    "$$ f_Y(y) = f_X(x) * \\dfrac{d}{dy} log(y) = f_X(x) * \\dfrac{1}{y} = \\dfrac{\\lambda}{y} e^{-\\lambda x}$$\n"
   ]
  },
  {
   "cell_type": "markdown",
   "metadata": {},
   "source": [
    "b.) Calculate the expected value\n",
    "$E[Y]$\n",
    "and demonstrate that in this particular case that\n",
    "$E[g(x)] \\ne g(E[X])$\n",
    "\n",
    "**Calculations:**  \n",
    "\n",
    "$$E[Y] = E[g(x)] = \\int_{0}^{\\infty} \\lambda e^{-\\lambda x} e^x dx = \\lambda \\int_{-\\infty}^{\\infty} e^{-x(\\lambda-1)}dx = \\dfrac{\\lambda}{\\lambda-1}$$\n",
    "$$\\ne g(E[X]) = g(\\dfrac{1}{\\lambda}) = e^{\\dfrac{1}{\\lambda}}$$ "
   ]
  },
  {
   "cell_type": "markdown",
   "metadata": {},
   "source": [
    "4.)  \n",
    "a.) If X is a binomial random variable with parameters\n",
    "$n \\in \\mathbb{Z}^+$\n",
    "and\n",
    "$p \\in (0,1),$\n",
    "find the value of p that maximizes\n",
    "$\\{X = k\\}$\n",
    "for \n",
    "$k = 0,1,...,n$\n",
    "\n",
    "\n"
   ]
  },
  {
   "cell_type": "markdown",
   "metadata": {},
   "source": [
    "use \n",
    "$$p_X(x) = {n \\choose k}p^k(1-p)^{(n-k)}$$\n",
    "\n",
    "    $$\\Leftarrow\\Rightarrow = \\dfrac{}"
   ]
  },
  {
   "cell_type": "code",
   "execution_count": null,
   "metadata": {
    "collapsed": true
   },
   "outputs": [],
   "source": []
  },
  {
   "cell_type": "markdown",
   "metadata": {},
   "source": []
  },
  {
   "cell_type": "markdown",
   "metadata": {},
   "source": []
  },
  {
   "cell_type": "markdown",
   "metadata": {},
   "source": []
  },
  {
   "cell_type": "markdown",
   "metadata": {},
   "source": []
  },
  {
   "cell_type": "markdown",
   "metadata": {},
   "source": []
  },
  {
   "cell_type": "markdown",
   "metadata": {},
   "source": []
  },
  {
   "cell_type": "markdown",
   "metadata": {},
   "source": []
  },
  {
   "cell_type": "markdown",
   "metadata": {},
   "source": []
  },
  {
   "cell_type": "markdown",
   "metadata": {},
   "source": []
  },
  {
   "cell_type": "code",
   "execution_count": 18,
   "metadata": {
    "collapsed": false
   },
   "outputs": [
    {
     "data": {
      "text/plain": [
       "0.46575637431695144"
      ]
     },
     "execution_count": 18,
     "metadata": {},
     "output_type": "execute_result"
    }
   ],
   "source": [
    "0.00014189395968/.0003046527487425"
   ]
  }
 ],
 "metadata": {
  "kernelspec": {
   "display_name": "Python 2",
   "language": "python",
   "name": "python2"
  },
  "language_info": {
   "codemirror_mode": {
    "name": "ipython",
    "version": 2
   },
   "file_extension": ".py",
   "mimetype": "text/x-python",
   "name": "python",
   "nbconvert_exporter": "python",
   "pygments_lexer": "ipython2",
   "version": "2.7.11"
  }
 },
 "nbformat": 4,
 "nbformat_minor": 0
}
