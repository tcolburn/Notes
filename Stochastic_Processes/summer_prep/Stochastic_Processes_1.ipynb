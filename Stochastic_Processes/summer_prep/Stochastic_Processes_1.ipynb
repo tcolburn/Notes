{
 "cells": [
  {
   "cell_type": "markdown",
   "metadata": {},
   "source": [
    "# Sequential Decision Models\n",
    "\n",
    "***Discrete-time Stochastic Processes under the partial control of an observer***\n",
    "\n",
    "        At each timestep, the state of the system is observed, and a controller selects an action that influences \n",
    "        the state of the system at the next timepoint. The observer recieves a reward (or incurs a cost) \n",
    "        at each time step, dependent on the state of the system and the action chosen. \n",
    "        \n",
    "\n",
    "This model has the following key components:\n",
    "  \n",
    "  * A set of *epochs* (decision times)\n",
    "  * A set of *states* that the system can occupy (state space)\n",
    "  * A set of *actions*\n",
    "  * *Rewards* and *Costs*\n",
    "  * *Transition probabilities* in state-space\n",
    "  \n",
    "The latter two components are both state- and action-dependent values.\n",
    "\n",
    "We would like to maximize rewards, particularly when there are some constraints on the possible states of the system, by producing *rules that govern what action is to be chosen in a given epoch* (decision rules), and *sequences of decision rules* (policies).\n",
    "     "
   ]
  },
  {
   "cell_type": "markdown",
   "metadata": {},
   "source": [
    "## Core Questions\n",
    "\n",
    "1. When does an optimal policy exist?\n",
    "2. When does it have a particular form?\n",
    "3. How can we efficiently find an optimal policy?\n",
    "\n",
    "## Applications\n",
    "\n",
    "1. Inventory management\n",
    "2. SIR (susceptible, infected, removed) models with vaccination\n",
    "3. Evolutionary game theory (e.g. mate desertion bt Cooper's Hawks)\n",
    "\n"
   ]
  },
  {
   "cell_type": "markdown",
   "metadata": {},
   "source": [
    "# Discrete-time Markov Chains\n",
    "\n",
    "A stochastic process \n",
    "$ X = (x_n; n \\geq 0)$\n",
    "that takes values from a set E is said to be a ***discrete time Markov Process*** if, for every\n",
    "$n \\geq 0$\n",
    "and every set of values\n",
    "$x_0,...,x_n \\in E,$\n",
    "we have\n",
    "\n",
    "$$ P(X_{n+1} \\in A|X_0 = x_0, X_1 = x_1,..., X_n = x_n) = P(X_{n+1} \\in A | X_n =x_n), $$\n",
    "\n",
    "whenever A is a subset of E such that\n",
    "$\\{X_{n+1} \\in A\\}$\n",
    "is an event.  \n",
    "\n",
    "\n",
    "The functions defined by \n",
    "\n",
    "$$p_n(x,A) = P(X_{n+1} \\in A | X_n =x)$$\n",
    "\n",
    "are called ***one-step transition probabilities*** of X. If the functions do not depend on n:\n",
    "\n",
    "$$p(x,A) = P(X_{n+1} \\in A | X_n = x)$$  \n",
    "\n",
    "\n",
    "for every \n",
    "$n \\geq 0,$\n",
    "then we say that X is a ***time-homogenous Markov process*** with ***transition function*** p. Otherwise, X is said to be ***time-inhomogeneous***"
   ]
  },
  {
   "cell_type": "markdown",
   "metadata": {},
   "source": [
    "## Discrete-time Random Walks\n",
    "\n",
    "Let\n",
    "$Z_1, Z_2,...,Z_n$\n",
    "be an iid sequence of real-valued RVs and define the process \n",
    "$X = (X_n; n \\geq 0)$\n",
    "by setting \n",
    "$X_0 = 0$\n",
    "and \n",
    "$$ X_{n+1} = X_n + Z_{n+1}$$\n",
    "$$\\Rightarrow X_1 = (0) + Z_1$$\n",
    "$$\\Rightarrow X_2 = (X_1) + Z_2$$ \n",
    "$$= Z_1 + Z_2$$ \n",
    "$$\\Rightarrow X_3 = Z_1 + Z_2 + Z_3 $$  \n",
    "$$\\Leftarrow\\Rightarrow X_n = X_{n+1} - Z_{n+1} = \\sum_{i=1}^{n} Z_i $$\n"
   ]
  },
  {
   "cell_type": "markdown",
   "metadata": {},
   "source": [
    "The Discrete-time random walk can easily be shown to be a time-homogenous Markov process with transition function  \n",
    "\n",
    "$$P(X_{n+1} \\in A | X_0 = x_0,...,X_n=x) = \\underline{P(X_{n+1} \\in A | X_n = x)}$$  \n",
    "\n",
    "$$= P(Z_{n+1} - x \\in A | X_n = x)$$  \n",
    "\n",
    "$$= P(Z_{n+1} - x \\in A)$$  \n",
    "\n",
    "$$= \\underline{\\int_{A} f(z-x)dz}$$\n"
   ]
  },
  {
   "cell_type": "markdown",
   "metadata": {},
   "source": []
  },
  {
   "cell_type": "markdown",
   "metadata": {},
   "source": []
  },
  {
   "cell_type": "markdown",
   "metadata": {},
   "source": []
  },
  {
   "cell_type": "markdown",
   "metadata": {},
   "source": []
  },
  {
   "cell_type": "markdown",
   "metadata": {},
   "source": []
  },
  {
   "cell_type": "markdown",
   "metadata": {},
   "source": []
  },
  {
   "cell_type": "markdown",
   "metadata": {},
   "source": []
  }
 ],
 "metadata": {
  "kernelspec": {
   "display_name": "Python 2",
   "language": "python",
   "name": "python2"
  },
  "language_info": {
   "codemirror_mode": {
    "name": "ipython",
    "version": 2
   },
   "file_extension": ".py",
   "mimetype": "text/x-python",
   "name": "python",
   "nbconvert_exporter": "python",
   "pygments_lexer": "ipython2",
   "version": "2.7.11"
  }
 },
 "nbformat": 4,
 "nbformat_minor": 0
}
